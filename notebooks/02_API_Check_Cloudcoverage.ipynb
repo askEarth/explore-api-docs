{
 "cells": [
  {
   "cell_type": "markdown",
   "metadata": {},
   "source": [
    "# askEarth Explore API - Check Cloudcoverage\n",
    "\n",
    "Before we get satellite data of an area of interest, we need to check which dates were available and how much each date was covered by clouds.\n",
    "This notebook explains how to do just that.\n",
    "\n",
    "## Step 1: Setup\n"
   ]
  },
  {
   "cell_type": "code",
   "execution_count": 2,
   "metadata": {},
   "outputs": [],
   "source": [
    "import json\n",
    "import requests\n",
    "\n",
    "\n",
    "API_KEY = \"\"  # Paste the API key that you received from us here\n",
    "\n",
    "\n",
    "def fetch_cloudcoverage(query):\n",
    "    headers = {\"Ocp-Apim-Subscription-Key\": API_KEY, \"Content-Type\": \"application/json\"}\n",
    "    data = json.dumps(query)\n",
    "    return requests.post(\"https://ae-api.azure-api.net/askEarth/date-sc2a-cloudcover\", data=data, headers=headers)"
   ]
  },
  {
   "cell_type": "markdown",
   "metadata": {},
   "source": [
    "## Step 2: Prepare the query\n",
    "\n",
    "The cloud coverage API requires us to specify an `area` and two `dates` (start and end).\n",
    "\n",
    "The `area` is specified in the GeoJSON format. Learn more about it [here](https://geojson.org/).\n",
    "It can be a hassle to write these by hand, so we recommend using a tool to make it easier such as [geojson.io](https://geojson.io). (Note: Make sure to only copy-paste the `geometry`.)\n",
    "\n",
    "The `dates` object is a dictionary that has a `start` and `end` date in the format `yyyy-MM-dd`. The `start` date must come before the `end` date.\n",
    "\n",
    "There is an optional `constellation` attribute that is `S2` by default (for Sentinel-2). You can specify it as `S1Land` for SAR.\n"
   ]
  },
  {
   "cell_type": "code",
   "execution_count": 5,
   "metadata": {},
   "outputs": [],
   "source": [
    "query = {\n",
    "    \"area\": {\n",
    "        \"coordinates\": [\n",
    "            [\n",
    "                [8.472252130376006, 47.401720231335815],\n",
    "                [8.472252130376006, 47.28481572263618],\n",
    "                [8.622335960288467, 47.28481572263618],\n",
    "                [8.622335960288467, 47.401720231335815],\n",
    "                [8.472252130376006, 47.401720231335815],\n",
    "            ]\n",
    "        ],\n",
    "        \"type\": \"Polygon\",\n",
    "    },\n",
    "    \"dates\": {\"start\": \"2024-08-01\", \"end\": \"2024-08-18\"},\n",
    "    # \"constellation\": \"S1Land\"\n",
    "}"
   ]
  },
  {
   "cell_type": "markdown",
   "metadata": {},
   "source": [
    "## Step 3: Make the request\n",
    "\n",
    "Now we will call the API and print the output.\n"
   ]
  },
  {
   "cell_type": "code",
   "execution_count": 6,
   "metadata": {},
   "outputs": [
    {
     "name": "stdout",
     "output_type": "stream",
     "text": [
      "{\n",
      "  \"error\": [\n",
      "    {\n",
      "      \"type\": \"info\",\n",
      "      \"status\": 199,\n",
      "      \"message\": \"These (cloud) coverages are good estimates, but if your area of interest is small or thin, they may be off.\"\n",
      "    }\n",
      "  ],\n",
      "  \"result\": [\n",
      "    {\n",
      "      \"datetime\": \"2024-08-01T10:30:31.024000+00:00\",\n",
      "      \"inverse_weighted_cloud_cover\": 64.405394\n",
      "    },\n",
      "    {\n",
      "      \"datetime\": \"2024-08-03T10:15:59.024000+00:00\",\n",
      "      \"inverse_weighted_cloud_cover\": 59.063911\n",
      "    },\n",
      "    {\n",
      "      \"datetime\": \"2024-08-06T10:25:59.024000+00:00\",\n",
      "      \"inverse_weighted_cloud_cover\": 8.077753000000001\n",
      "    },\n",
      "    {\n",
      "      \"datetime\": \"2024-08-08T10:20:21.024000+00:00\",\n",
      "      \"inverse_weighted_cloud_cover\": 85.374713\n",
      "    },\n",
      "    {\n",
      "      \"datetime\": \"2024-08-11T10:30:31.024000+00:00\",\n",
      "      \"inverse_weighted_cloud_cover\": 15.488913999999994\n",
      "    },\n",
      "    {\n",
      "      \"datetime\": \"2024-08-13T10:15:59.024000+00:00\",\n",
      "      \"inverse_weighted_cloud_cover\": 24.383031000000003\n",
      "    },\n",
      "    {\n",
      "      \"datetime\": \"2024-08-16T10:25:59.024000+00:00\",\n",
      "      \"inverse_weighted_cloud_cover\": 17.491186\n",
      "    },\n",
      "    {\n",
      "      \"datetime\": \"2024-08-18T10:20:21.024000+00:00\",\n",
      "      \"inverse_weighted_cloud_cover\": 99.983627\n",
      "    }\n",
      "  ]\n",
      "}\n"
     ]
    }
   ],
   "source": [
    "response = fetch_cloudcoverage(query)\n",
    "\n",
    "# Check if the response was successful\n",
    "if response.status_code == 200:\n",
    "    response_json = response.json()\n",
    "    # Pretty print the response\n",
    "    print(json.dumps(response_json, indent=2))\n",
    "else:\n",
    "    print(\"The response had an error with code:\", response.status_code)\n",
    "    print(response.content)"
   ]
  },
  {
   "cell_type": "markdown",
   "metadata": {},
   "source": [
    "## Step 4: Interpret the request\n",
    "\n",
    "We received a list of dates with their respective cloud coverages. Let's get the date with the lowest cloud coverage.\n"
   ]
  },
  {
   "cell_type": "code",
   "execution_count": 8,
   "metadata": {},
   "outputs": [
    {
     "name": "stdout",
     "output_type": "stream",
     "text": [
      "{'datetime': '2024-08-06T10:25:59.024000+00:00', 'inverse_weighted_cloud_cover': 8.077753000000001}\n"
     ]
    }
   ],
   "source": [
    "def sort_by_cloud_cover(result):\n",
    "    return sorted(result, key=lambda x: x[\"inverse_weighted_cloud_cover\"])\n",
    "\n",
    "\n",
    "sorted_dates = sort_by_cloud_cover(response_json[\"result\"])\n",
    "\n",
    "print(sorted_dates[0])"
   ]
  },
  {
   "cell_type": "markdown",
   "metadata": {},
   "source": [
    "And this should give us the date `2024-08-06`.\n"
   ]
  }
 ],
 "metadata": {
  "kernelspec": {
   "display_name": ".venv",
   "language": "python",
   "name": "python3"
  },
  "language_info": {
   "codemirror_mode": {
    "name": "ipython",
    "version": 3
   },
   "file_extension": ".py",
   "mimetype": "text/x-python",
   "name": "python",
   "nbconvert_exporter": "python",
   "pygments_lexer": "ipython3",
   "version": "3.12.5"
  }
 },
 "nbformat": 4,
 "nbformat_minor": 2
}
