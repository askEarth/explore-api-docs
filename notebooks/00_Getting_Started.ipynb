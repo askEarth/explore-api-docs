{
 "cells": [
  {
   "cell_type": "markdown",
   "metadata": {},
   "source": [
    "# askEarth Explore - Getting started\n",
    "\n",
    "## 1. Download and install Python \n",
    "\n",
    "Download Python [here](https://www.python.org/downloads/) and install it for your operating system. We recommend the latest version, but anything higher than `3.7` should work with the askEarth API.\n",
    "\n",
    "### 1.1 (Optional) Test the installation\n",
    "\n",
    "Test your Python installation by running the following command:\n",
    "\n",
    "```sh\n",
    "python --version\n",
    "```\n",
    "\n",
    "This should output something like this: `Python 3.12.5`\n",
    "\n",
    "## 2. Install dependencies\n",
    "\n",
    "Next we will install the dependencies. \n",
    "\n",
    "We recommend using a virtual environment for that, it's pretty simple to set it up!\n",
    "\n",
    "### 2.1 (Optional) Create a venv\n",
    "\n",
    "(Optional) Open a terminal and run the following commands. For more info on venv see [here](https://docs.python.org/3/library/venv.html)\n",
    "\n",
    "Linux (shell or bash):\n",
    "\n",
    "```sh\n",
    "cd path/to/the/folder/with/your/notebooks\n",
    "python -m venv .venv\n",
    "source .venv/bin/activate\n",
    "```\n",
    "\n",
    "Windows (Powershell):\n",
    "\n",
    "```ps\n",
    "cd path\\to\\the\\folder\\with\\your\\notebooks\n",
    "python -m venv .venv\n",
    ".\\Scripts\\activate.bat\n",
    "```\n",
    "\n",
    "## 2.2 Install the requirements\n",
    "\n",
    "```sh\n",
    "pip install -r requirements.txt\n",
    "```\n",
    "\n",
    "## 3. (Optional) Test the installation\n",
    "\n",
    "We can test whether the dependencies have been installed successfully by running the code below.\n",
    "\n",
    "Juypter might ask you to specify the Python interpreter when you run it. If you created a virtual environment, make sure to use that one."
   ]
  },
  {
   "cell_type": "code",
   "execution_count": 1,
   "metadata": {},
   "outputs": [],
   "source": [
    "import requests\n",
    "import pandas\n",
    "import matplotlib"
   ]
  }
 ],
 "metadata": {
  "kernelspec": {
   "display_name": ".venv",
   "language": "python",
   "name": "python3"
  },
  "language_info": {
   "codemirror_mode": {
    "name": "ipython",
    "version": 3
   },
   "file_extension": ".py",
   "mimetype": "text/x-python",
   "name": "python",
   "nbconvert_exporter": "python",
   "pygments_lexer": "ipython3",
   "version": "3.12.5"
  }
 },
 "nbformat": 4,
 "nbformat_minor": 2
}
